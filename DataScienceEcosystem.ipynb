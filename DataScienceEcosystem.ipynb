{
 "cells": [
  {
   "cell_type": "markdown",
   "id": "4e390f27-1bf9-4e07-9170-bc81249aa4df",
   "metadata": {},
   "source": [
    "# Data Science Tools and Ecosystem"
   ]
  },
  {
   "cell_type": "markdown",
   "id": "0dab176c-da72-4d00-98d1-a3ebd27682b3",
   "metadata": {},
   "source": [
    "In this notebook, Data Science Tools and Ecosystem are summarized."
   ]
  },
  {
   "cell_type": "markdown",
   "id": "cbd46981-3c37-4f9f-9b84-0cec1f41561f",
   "metadata": {},
   "source": [
    "**Objectives:** \n",
    "* list popular languages for DAta Science\n",
    "* list common libraries for Data Science\n",
    "* create a table of data science tools\n",
    "* run some common python arithmetic expressions "
   ]
  },
  {
   "cell_type": "markdown",
   "id": "ed86b813-8b39-436c-96e0-8bcce351150a",
   "metadata": {},
   "source": [
    "1. Python\n",
    "2. Scala\n",
    "3. Julia\n",
    "4. C#\n",
    "5. JS\n",
    "6. R"
   ]
  },
  {
   "cell_type": "markdown",
   "id": "1eca5a5b-dba2-4ef2-a427-5bffebdfc2d1",
   "metadata": {},
   "source": [
    "Some of the commonly used libraries used by Data Scientists include:\n",
    "1. ggplot\n",
    "2. dyplr\n",
    "3. pandas\n",
    "4. seaborn"
   ]
  },
  {
   "cell_type": "markdown",
   "id": "9aecff67-4b73-4e0f-bf78-66d303787d88",
   "metadata": {},
   "source": [
    "|Data Science Tools|\n",
    "|------------------|\n",
    "|Jupyter notebooks|\n",
    "|RStudio|\n",
    "|VS Code|"
   ]
  },
  {
   "cell_type": "markdown",
   "id": "62eabbbf-0118-4a3f-91ae-b573583895b1",
   "metadata": {},
   "source": [
    "### Below are a few examples of evaluating arithmetic expressions in Python\n"
   ]
  },
  {
   "cell_type": "code",
   "execution_count": 10,
   "id": "04e7f5ac-a1d2-471d-81cc-fd7aa29cd4bc",
   "metadata": {},
   "outputs": [
    {
     "data": {
      "text/plain": [
       "17"
      ]
     },
     "execution_count": 10,
     "metadata": {},
     "output_type": "execute_result"
    }
   ],
   "source": [
    "# This a simple arithmetic expression to mutiply then add integers\n",
    "(3*4)+5"
   ]
  },
  {
   "cell_type": "code",
   "execution_count": 14,
   "id": "c8f990ed-6627-48ff-a41d-6e45a1b1e4dc",
   "metadata": {},
   "outputs": [
    {
     "data": {
      "text/plain": [
       "3.3333333333333335"
      ]
     },
     "execution_count": 14,
     "metadata": {},
     "output_type": "execute_result"
    }
   ],
   "source": [
    "# This will convert 200 minutes to hours by diving by 60\n",
    "minutes = 200\n",
    "hours = minutes/60\n",
    "hours"
   ]
  },
  {
   "cell_type": "markdown",
   "id": "f8b49a7f-c678-41ef-9ec2-06f5e95a8604",
   "metadata": {},
   "source": [
    "## Author\n",
    "Bart"
   ]
  },
  {
   "cell_type": "code",
   "execution_count": null,
   "id": "16ce2d21-92c9-4b0e-8229-a42305318758",
   "metadata": {},
   "outputs": [],
   "source": []
  }
 ],
 "metadata": {
  "kernelspec": {
   "display_name": "Python [conda env:base] *",
   "language": "python",
   "name": "conda-base-py"
  },
  "language_info": {
   "codemirror_mode": {
    "name": "ipython",
    "version": 3
   },
   "file_extension": ".py",
   "mimetype": "text/x-python",
   "name": "python",
   "nbconvert_exporter": "python",
   "pygments_lexer": "ipython3",
   "version": "3.12.7"
  }
 },
 "nbformat": 4,
 "nbformat_minor": 5
}
